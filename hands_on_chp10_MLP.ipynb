{
  "nbformat": 4,
  "nbformat_minor": 0,
  "metadata": {
    "colab": {
      "name": "hands-on_chp10_MLP.ipynb",
      "provenance": [],
      "collapsed_sections": [
        "Ju9L7_8uleB4",
        "iJnJ7_OYlOqu"
      ],
      "authorship_tag": "ABX9TyPnLWI7xkJjS7OagRCt8gmq",
      "include_colab_link": true
    },
    "kernelspec": {
      "name": "python3",
      "display_name": "Python 3"
    }
  },
  "cells": [
    {
      "cell_type": "markdown",
      "metadata": {
        "id": "view-in-github",
        "colab_type": "text"
      },
      "source": [
        "<a href=\"https://colab.research.google.com/github/gvigkannan/tensorflow_certification_prep/blob/chp10/hands_on_chp10_MLP.ipynb\" target=\"_parent\"><img src=\"https://colab.research.google.com/assets/colab-badge.svg\" alt=\"Open In Colab\"/></a>"
      ]
    },
    {
      "cell_type": "code",
      "metadata": {
        "id": "XvOsTwCoCaMu"
      },
      "source": [
        "import tensorflow as tf\n",
        "from tensorflow import keras\n",
        "from tensorflow.keras import Sequential, layers, losses\n",
        "import numpy as np\n",
        "import pandas as pd\n",
        "import matplotlib.pyplot as plt"
      ],
      "execution_count": 161,
      "outputs": []
    },
    {
      "cell_type": "code",
      "metadata": {
        "id": "jtX1bXOTTu3Z"
      },
      "source": [
        "import torch"
      ],
      "execution_count": 135,
      "outputs": []
    },
    {
      "cell_type": "code",
      "metadata": {
        "colab": {
          "base_uri": "https://localhost:8080/"
        },
        "id": "d1JeVJKPTv-z",
        "outputId": "d6a146ba-35d1-468b-8e75-1f0d8969907b"
      },
      "source": [
        "print(tf.__version__)\n",
        "print(keras.__version__)"
      ],
      "execution_count": 136,
      "outputs": [
        {
          "output_type": "stream",
          "text": [
            "2.4.0\n",
            "2.4.0\n"
          ],
          "name": "stdout"
        }
      ]
    },
    {
      "cell_type": "markdown",
      "metadata": {
        "id": "WjPGEQXcoj2n"
      },
      "source": [
        "## Preprocessing"
      ]
    },
    {
      "cell_type": "code",
      "metadata": {
        "id": "gEz7Nqi9T1xz"
      },
      "source": [
        "#Fashion MNIST!\n",
        "fashion_mnist = keras.datasets.fashion_mnist\n",
        "(X_train_full, y_train_full), (X_test, y_test) = fashion_mnist.load_data()"
      ],
      "execution_count": 137,
      "outputs": []
    },
    {
      "cell_type": "code",
      "metadata": {
        "colab": {
          "base_uri": "https://localhost:8080/"
        },
        "id": "aoIBQKWKURbT",
        "outputId": "274221df-8fcf-495e-a6c7-0ed1f39cd358"
      },
      "source": [
        "print(X_train_full.shape)\n",
        "print(X_train_full.dtype)"
      ],
      "execution_count": 138,
      "outputs": [
        {
          "output_type": "stream",
          "text": [
            "(60000, 28, 28)\n",
            "uint8\n"
          ],
          "name": "stdout"
        }
      ]
    },
    {
      "cell_type": "code",
      "metadata": {
        "id": "gS--j7UHUWIL"
      },
      "source": [
        "X_valid, X_train = X_train_full[:5000]/255.0 ,X_train_full[5000:]/255.0 \n",
        "x_valid = X_valid.reshape(5000, 784).astype(\"float32\")\n",
        "x_train= X_train.reshape(55000, 784).astype(\"float32\")\n",
        "x_test = X_test.reshape(-1, 784).astype(\"float32\")\n",
        "y_valid, y_train = y_train_full[:5000], y_train_full[5000:]"
      ],
      "execution_count": 178,
      "outputs": []
    },
    {
      "cell_type": "code",
      "metadata": {
        "id": "IUCTZSwGos3D"
      },
      "source": [
        ""
      ],
      "execution_count": 139,
      "outputs": []
    },
    {
      "cell_type": "markdown",
      "metadata": {
        "id": "Ju9L7_8uleB4"
      },
      "source": [
        "## Creating the Model"
      ]
    },
    {
      "cell_type": "code",
      "metadata": {
        "id": "vFkc35ppU8KV"
      },
      "source": [
        "#Creating a Sequential Dense Model!\n",
        "model_seq = Sequential(name= 'seq_model')\n",
        "model_seq.add(layers.Flatten(input_shape = [28,28], name = 'Flatten1'))\n",
        "model_seq.add(layers.Dense(300, activation= 'relu', name = 'Hidden1'))\n",
        "model_seq.add(layers.Dense(100, activation = 'relu', name = 'Hidden2'))\n",
        "model_seq.add(layers.Dense(10, activation = 'softmax', name = 'Output_Layer'))"
      ],
      "execution_count": 140,
      "outputs": []
    },
    {
      "cell_type": "code",
      "metadata": {
        "colab": {
          "base_uri": "https://localhost:8080/"
        },
        "id": "yXFz5PwjZs_F",
        "outputId": "fc316d7d-152e-4535-b56f-2342fa9101f4"
      },
      "source": [
        "model_seq.summary()"
      ],
      "execution_count": 141,
      "outputs": [
        {
          "output_type": "stream",
          "text": [
            "Model: \"seq_model\"\n",
            "_________________________________________________________________\n",
            "Layer (type)                 Output Shape              Param #   \n",
            "=================================================================\n",
            "Flatten1 (Flatten)           (None, 784)               0         \n",
            "_________________________________________________________________\n",
            "Hidden1 (Dense)              (None, 300)               235500    \n",
            "_________________________________________________________________\n",
            "Hidden2 (Dense)              (None, 100)               30100     \n",
            "_________________________________________________________________\n",
            "Output_Layer (Dense)         (None, 10)                1010      \n",
            "=================================================================\n",
            "Total params: 266,610\n",
            "Trainable params: 266,610\n",
            "Non-trainable params: 0\n",
            "_________________________________________________________________\n"
          ],
          "name": "stdout"
        }
      ]
    },
    {
      "cell_type": "code",
      "metadata": {
        "id": "ZGKrYyinVlLl"
      },
      "source": [
        "inputs = keras.Input(shape = (784, ))\n",
        "img_inputs = keras.Input(shape = (28, 28), name = 'Input_Layer')\n",
        "# Not sure why I am not able to implement Flatten!\n",
        "#x = layers.Flatten()(img_inputs)\n",
        "dense_1 = layers.Dense(300,activation = 'relu', name = 'Hidden1')(inputs)\n",
        "dense_2 = layers.Dense(100, activation = 'relu' , name = 'Hidden2')(dense_1)\n",
        "outputs = layers.Dense(10, activation = 'softmax', name = 'Output_Layer')(dense_2)\n",
        "model_fn = keras.Model(inputs = inputs, outputs = outputs, name = 'fmnist_fn')"
      ],
      "execution_count": 142,
      "outputs": []
    },
    {
      "cell_type": "markdown",
      "metadata": {
        "id": "qdOw_fU-Z3GM"
      },
      "source": [
        "\n",
        "\n",
        "```\n",
        "# Or if you wish to have different layers for activation\n",
        "\n",
        "hidden_1 = layer.Dense(10)(inputs)\n",
        "act_1 = layers.ReLU()(hidden_1)\n",
        "```\n",
        "\n"
      ]
    },
    {
      "cell_type": "code",
      "metadata": {
        "colab": {
          "base_uri": "https://localhost:8080/"
        },
        "id": "4xXOBWB7ZrhE",
        "outputId": "eb81d5d8-abd0-4340-a1c9-ec7747ee0c8e"
      },
      "source": [
        "model_fn.summary()"
      ],
      "execution_count": 143,
      "outputs": [
        {
          "output_type": "stream",
          "text": [
            "Model: \"fmnist_fn\"\n",
            "_________________________________________________________________\n",
            "Layer (type)                 Output Shape              Param #   \n",
            "=================================================================\n",
            "input_32 (InputLayer)        [(None, 784)]             0         \n",
            "_________________________________________________________________\n",
            "Hidden1 (Dense)              (None, 300)               235500    \n",
            "_________________________________________________________________\n",
            "Hidden2 (Dense)              (None, 100)               30100     \n",
            "_________________________________________________________________\n",
            "Output_Layer (Dense)         (None, 10)                1010      \n",
            "=================================================================\n",
            "Total params: 266,610\n",
            "Trainable params: 266,610\n",
            "Non-trainable params: 0\n",
            "_________________________________________________________________\n"
          ],
          "name": "stdout"
        }
      ]
    },
    {
      "cell_type": "code",
      "metadata": {
        "colab": {
          "base_uri": "https://localhost:8080/",
          "height": 0
        },
        "id": "Hh28Xtn0a-Iy",
        "outputId": "69e4eac0-a68e-43c0-a3b0-cbfba9294123"
      },
      "source": [
        "keras.utils.plot_model(model_fn)"
      ],
      "execution_count": 144,
      "outputs": [
        {
          "output_type": "execute_result",
          "data": {
            "image/png": "[encoded data removed]",
            "text/plain": [
              "<IPython.core.display.Image object>"
            ]
          },
          "metadata": {
            "tags": []
          },
          "execution_count": 144
        }
      ]
    },
    {
      "cell_type": "code",
      "metadata": {
        "colab": {
          "base_uri": "https://localhost:8080/",
          "height": 0
        },
        "id": "vLj5mOPIb4T7",
        "outputId": "fe6912e9-0d49-4f3c-d80e-69feb92ccb0c"
      },
      "source": [
        "keras.utils.plot_model(model_seq)"
      ],
      "execution_count": 145,
      "outputs": [
        {
          "output_type": "execute_result",
          "data": {
            "image/png": "[encoded data removed]",
            "text/plain": [
              "<IPython.core.display.Image object>"
            ]
          },
          "metadata": {
            "tags": []
          },
          "execution_count": 145
        }
      ]
    },
    {
      "cell_type": "code",
      "metadata": {
        "id": "j2kBzKKSb6kn"
      },
      "source": [
        "#Number of connections = Input Dimension x Units + Units"
      ],
      "execution_count": 146,
      "outputs": []
    },
    {
      "cell_type": "code",
      "metadata": {
        "colab": {
          "base_uri": "https://localhost:8080/",
          "height": 0
        },
        "id": "6uN-JrfqgHIu",
        "outputId": "d98c0d6a-cf7b-4568-967f-90f6af7964dc"
      },
      "source": [
        "display(model_fn.layers)"
      ],
      "execution_count": 147,
      "outputs": [
        {
          "output_type": "display_data",
          "data": {
            "text/plain": [
              "[<tensorflow.python.keras.engine.input_layer.InputLayer at 0x7fc3a98466a0>,\n",
              " <tensorflow.python.keras.layers.core.Dense at 0x7fc3a9846d30>,\n",
              " <tensorflow.python.keras.layers.core.Dense at 0x7fc3a9846748>,\n",
              " <tensorflow.python.keras.layers.core.Dense at 0x7fc3a9846400>]"
            ]
          },
          "metadata": {
            "tags": []
          }
        }
      ]
    },
    {
      "cell_type": "code",
      "metadata": {
        "colab": {
          "base_uri": "https://localhost:8080/",
          "height": 0
        },
        "id": "wNymAUAWgI7Z",
        "outputId": "91753259-a444-41b2-f41b-bf27d923ffda"
      },
      "source": [
        "display(model_seq.layers)"
      ],
      "execution_count": 148,
      "outputs": [
        {
          "output_type": "display_data",
          "data": {
            "text/plain": [
              "[<tensorflow.python.keras.layers.core.Flatten at 0x7fc3a75e7c88>,\n",
              " <tensorflow.python.keras.layers.core.Dense at 0x7fc3a757d7b8>,\n",
              " <tensorflow.python.keras.layers.core.Dense at 0x7fc3a988bef0>,\n",
              " <tensorflow.python.keras.layers.core.Dense at 0x7fc3a9814c88>]"
            ]
          },
          "metadata": {
            "tags": []
          }
        }
      ]
    },
    {
      "cell_type": "code",
      "metadata": {
        "colab": {
          "base_uri": "https://localhost:8080/"
        },
        "id": "fqiGdOqxgRgs",
        "outputId": "980d4b3c-dda7-49d0-9d24-5e4a17de939e"
      },
      "source": [
        "print(model_fn.get_layer('Hidden1').name)\n",
        "print(model_fn.get_layer('Hidden1').units)\n",
        "print(model_fn.get_layer('Hidden1').activation)\n",
        "# weights, biases = model_fn.get_weights() # How do you self a particular layer?"
      ],
      "execution_count": 149,
      "outputs": [
        {
          "output_type": "stream",
          "text": [
            "Hidden1\n",
            "300\n",
            "<function relu at 0x7fc40b7b1e18>\n"
          ],
          "name": "stdout"
        }
      ]
    },
    {
      "cell_type": "code",
      "metadata": {
        "colab": {
          "base_uri": "https://localhost:8080/"
        },
        "id": "1xspHE95iGN5",
        "outputId": "61af72ab-744a-4518-9be3-0cb5d1ac571b"
      },
      "source": [
        "model_fn.get_layer('Hidden1').get_weights()\n",
        "model_fn.get_layer('Hidden1').weights #Both are the same!"
      ],
      "execution_count": 150,
      "outputs": [
        {
          "output_type": "execute_result",
          "data": {
            "text/plain": [
              "[<tf.Variable 'Hidden1/kernel:0' shape=(784, 300) dtype=float32, numpy=\n",
              " array([[-0.02351779, -0.00914332,  0.07334098, ..., -0.02942192,\n",
              "         -0.04543613,  0.01131753],\n",
              "        [-0.05602006, -0.04936251, -0.03878827, ..., -0.05075369,\n",
              "         -0.05411044,  0.00049575],\n",
              "        [-0.06411851,  0.01668762,  0.02664788, ..., -0.03850789,\n",
              "         -0.02336144, -0.00339259],\n",
              "        ...,\n",
              "        [-0.0373291 ,  0.06689234, -0.0214115 , ..., -0.03238366,\n",
              "          0.02697422, -0.04269814],\n",
              "        [-0.02352007, -0.02889065, -0.02544323, ...,  0.0622136 ,\n",
              "         -0.05650698,  0.06734833],\n",
              "        [ 0.03085423, -0.03299161,  0.0462058 , ..., -0.04639882,\n",
              "         -0.01117981,  0.02952757]], dtype=float32)>,\n",
              " <tf.Variable 'Hidden1/bias:0' shape=(300,) dtype=float32, numpy=\n",
              " array([0., 0., 0., 0., 0., 0., 0., 0., 0., 0., 0., 0., 0., 0., 0., 0., 0.,\n",
              "        0., 0., 0., 0., 0., 0., 0., 0., 0., 0., 0., 0., 0., 0., 0., 0., 0.,\n",
              "        0., 0., 0., 0., 0., 0., 0., 0., 0., 0., 0., 0., 0., 0., 0., 0., 0.,\n",
              "        0., 0., 0., 0., 0., 0., 0., 0., 0., 0., 0., 0., 0., 0., 0., 0., 0.,\n",
              "        0., 0., 0., 0., 0., 0., 0., 0., 0., 0., 0., 0., 0., 0., 0., 0., 0.,\n",
              "        0., 0., 0., 0., 0., 0., 0., 0., 0., 0., 0., 0., 0., 0., 0., 0., 0.,\n",
              "        0., 0., 0., 0., 0., 0., 0., 0., 0., 0., 0., 0., 0., 0., 0., 0., 0.,\n",
              "        0., 0., 0., 0., 0., 0., 0., 0., 0., 0., 0., 0., 0., 0., 0., 0., 0.,\n",
              "        0., 0., 0., 0., 0., 0., 0., 0., 0., 0., 0., 0., 0., 0., 0., 0., 0.,\n",
              "        0., 0., 0., 0., 0., 0., 0., 0., 0., 0., 0., 0., 0., 0., 0., 0., 0.,\n",
              "        0., 0., 0., 0., 0., 0., 0., 0., 0., 0., 0., 0., 0., 0., 0., 0., 0.,\n",
              "        0., 0., 0., 0., 0., 0., 0., 0., 0., 0., 0., 0., 0., 0., 0., 0., 0.,\n",
              "        0., 0., 0., 0., 0., 0., 0., 0., 0., 0., 0., 0., 0., 0., 0., 0., 0.,\n",
              "        0., 0., 0., 0., 0., 0., 0., 0., 0., 0., 0., 0., 0., 0., 0., 0., 0.,\n",
              "        0., 0., 0., 0., 0., 0., 0., 0., 0., 0., 0., 0., 0., 0., 0., 0., 0.,\n",
              "        0., 0., 0., 0., 0., 0., 0., 0., 0., 0., 0., 0., 0., 0., 0., 0., 0.,\n",
              "        0., 0., 0., 0., 0., 0., 0., 0., 0., 0., 0., 0., 0., 0., 0., 0., 0.,\n",
              "        0., 0., 0., 0., 0., 0., 0., 0., 0., 0., 0.], dtype=float32)>]"
            ]
          },
          "metadata": {
            "tags": []
          },
          "execution_count": 150
        }
      ]
    },
    {
      "cell_type": "code",
      "metadata": {
        "id": "slSEznXrgXx4"
      },
      "source": [
        "# It is recommended you provide the input shape before hand\n",
        "# But you can make models without inputs as well"
      ],
      "execution_count": 151,
      "outputs": []
    },
    {
      "cell_type": "code",
      "metadata": {
        "id": "nWLbKXi6hFXe"
      },
      "source": [
        ""
      ],
      "execution_count": 151,
      "outputs": []
    },
    {
      "cell_type": "markdown",
      "metadata": {
        "id": "iJnJ7_OYlOqu"
      },
      "source": [
        "## Compiling the Model\n"
      ]
    },
    {
      "cell_type": "code",
      "metadata": {
        "id": "XrLD83bolZ-Q"
      },
      "source": [
        "model_fn.compile( loss = 'sparse_categorical_crossentropy',\n",
        "                  optimizer = 'sgd',\n",
        "                  metrics = ['accuracy'])\n",
        "# 'sgd' == keras.optimizer.SGD() \n",
        "#'accuracy' == keras.metrics.sparse_categorical_accuracy\n",
        "model_seq.compile(  loss = 'sparse_categorical_crossentropy',\n",
        "                    optimizer = 'sgd',\n",
        "                    metrics = ['accuracy'])\n",
        "\n",
        "\n",
        "# Refer the documentations when it doubt!\n",
        "#Backpropagation == reverse-mode autodiff + Gradient Descent\n"
      ],
      "execution_count": 152,
      "outputs": []
    },
    {
      "cell_type": "markdown",
      "metadata": {
        "id": "71WFEulHlxry"
      },
      "source": [
        "## Training!"
      ]
    },
    {
      "cell_type": "code",
      "metadata": {
        "colab": {
          "base_uri": "https://localhost:8080/"
        },
        "id": "Mdnezcq3lxJu",
        "outputId": "69037217-30e8-4267-a751-f8462a6e9a6a"
      },
      "source": [
        "history_fn = model_fn.fit(x_train, y_train, epochs = 10, validation_data = (x_valid, y_valid))"
      ],
      "execution_count": 153,
      "outputs": [
        {
          "output_type": "stream",
          "text": [
            "Epoch 1/10\n",
            "1719/1719 [==============================] - 6s 3ms/step - loss: 1.0070 - accuracy: 0.6769 - val_loss: 0.4935 - val_accuracy: 0.8350\n",
            "Epoch 2/10\n",
            "1719/1719 [==============================] - 5s 3ms/step - loss: 0.4956 - accuracy: 0.8289 - val_loss: 0.4316 - val_accuracy: 0.8556\n",
            "Epoch 3/10\n",
            "1719/1719 [==============================] - 5s 3ms/step - loss: 0.4472 - accuracy: 0.8425 - val_loss: 0.4246 - val_accuracy: 0.8558\n",
            "Epoch 4/10\n",
            "1719/1719 [==============================] - 5s 3ms/step - loss: 0.4213 - accuracy: 0.8532 - val_loss: 0.3933 - val_accuracy: 0.8680\n",
            "Epoch 5/10\n",
            "1719/1719 [==============================] - 6s 3ms/step - loss: 0.3934 - accuracy: 0.8617 - val_loss: 0.3804 - val_accuracy: 0.8664\n",
            "Epoch 6/10\n",
            "1719/1719 [==============================] - 5s 3ms/step - loss: 0.3804 - accuracy: 0.8641 - val_loss: 0.3878 - val_accuracy: 0.8622\n",
            "Epoch 7/10\n",
            "1719/1719 [==============================] - 5s 3ms/step - loss: 0.3662 - accuracy: 0.8692 - val_loss: 0.3707 - val_accuracy: 0.8668\n",
            "Epoch 8/10\n",
            "1719/1719 [==============================] - 5s 3ms/step - loss: 0.3579 - accuracy: 0.8743 - val_loss: 0.3505 - val_accuracy: 0.8766\n",
            "Epoch 9/10\n",
            "1719/1719 [==============================] - 5s 3ms/step - loss: 0.3409 - accuracy: 0.8784 - val_loss: 0.3448 - val_accuracy: 0.8780\n",
            "Epoch 10/10\n",
            "1719/1719 [==============================] - 5s 3ms/step - loss: 0.3351 - accuracy: 0.8792 - val_loss: 0.3549 - val_accuracy: 0.8738\n"
          ],
          "name": "stdout"
        }
      ]
    },
    {
      "cell_type": "code",
      "metadata": {
        "id": "3zeWXgJZnQXM",
        "colab": {
          "base_uri": "https://localhost:8080/"
        },
        "outputId": "9b83db10-674c-4670-fe9e-1bfc7525c970"
      },
      "source": [
        "#This is done not for the purpose of comparison.\n",
        "# Just implementation practice!\n",
        "history_seq = model_seq.fit(X_train, y_train, epochs = 10, validation_data = (X_valid, y_valid))"
      ],
      "execution_count": 156,
      "outputs": [
        {
          "output_type": "stream",
          "text": [
            "Epoch 1/10\n",
            "1719/1719 [==============================] - 6s 3ms/step - loss: 0.3029 - accuracy: 0.8908 - val_loss: 0.3392 - val_accuracy: 0.8770\n",
            "Epoch 2/10\n",
            "1719/1719 [==============================] - 6s 4ms/step - loss: 0.2959 - accuracy: 0.8936 - val_loss: 0.3187 - val_accuracy: 0.8858\n",
            "Epoch 3/10\n",
            "1719/1719 [==============================] - 6s 3ms/step - loss: 0.2900 - accuracy: 0.8959 - val_loss: 0.3218 - val_accuracy: 0.8850\n",
            "Epoch 4/10\n",
            "1719/1719 [==============================] - 6s 3ms/step - loss: 0.2847 - accuracy: 0.8972 - val_loss: 0.3162 - val_accuracy: 0.8878\n",
            "Epoch 5/10\n",
            "1719/1719 [==============================] - 6s 4ms/step - loss: 0.2789 - accuracy: 0.9006 - val_loss: 0.3420 - val_accuracy: 0.8780\n",
            "Epoch 6/10\n",
            "1719/1719 [==============================] - 6s 4ms/step - loss: 0.2733 - accuracy: 0.9012 - val_loss: 0.3367 - val_accuracy: 0.8748\n",
            "Epoch 7/10\n",
            "1719/1719 [==============================] - 6s 4ms/step - loss: 0.2695 - accuracy: 0.9029 - val_loss: 0.3097 - val_accuracy: 0.8900\n",
            "Epoch 8/10\n",
            "1719/1719 [==============================] - 6s 3ms/step - loss: 0.2643 - accuracy: 0.9048 - val_loss: 0.3211 - val_accuracy: 0.8836\n",
            "Epoch 9/10\n",
            "1719/1719 [==============================] - 6s 4ms/step - loss: 0.2598 - accuracy: 0.9068 - val_loss: 0.3046 - val_accuracy: 0.8934\n",
            "Epoch 10/10\n",
            "1719/1719 [==============================] - 6s 4ms/step - loss: 0.2551 - accuracy: 0.9071 - val_loss: 0.3017 - val_accuracy: 0.8946\n"
          ],
          "name": "stdout"
        }
      ]
    },
    {
      "cell_type": "code",
      "metadata": {
        "id": "XejnfZnPpn1x"
      },
      "source": [
        "#PyTorch training\n"
      ],
      "execution_count": null,
      "outputs": []
    },
    {
      "cell_type": "code",
      "metadata": {
        "id": "_s3o8o7pr_2L"
      },
      "source": [
        "## Model Eval"
      ],
      "execution_count": null,
      "outputs": []
    },
    {
      "cell_type": "markdown",
      "metadata": {
        "id": "ME4fR465sFxz"
      },
      "source": [
        "## Model Evaluation\n"
      ]
    },
    {
      "cell_type": "code",
      "metadata": {
        "colab": {
          "base_uri": "https://localhost:8080/",
          "height": 444
        },
        "id": "2uK2bjGasHa-",
        "outputId": "53b484b6-b5ba-4ecb-fb0b-c091e9830b8a"
      },
      "source": [
        "pd.DataFrame(history_seq.history).plot(figsize = (10, 7), grid = True)\n",
        "plt.gca().set_ylim(0, 1)\n",
        "plt.title(\"For Sequential Model\", c = 'y')\n",
        "plt.yticks(c = 'c')\n",
        "plt.xticks(c = 'c')\n",
        "plt.show()"
      ],
      "execution_count": 176,
      "outputs": [
        {
          "output_type": "display_data",
          "data": {
            "image/png": "[encoded data removed]",
            "text/plain": [
              "<Figure size 720x504 with 1 Axes>"
            ]
          },
          "metadata": {
            "tags": [],
            "needs_background": "dark"
          }
        }
      ]
    },
    {
      "cell_type": "code",
      "metadata": {
        "colab": {
          "base_uri": "https://localhost:8080/",
          "height": 444
        },
        "id": "G2-rwd3ZsQRg",
        "outputId": "dc1acb02-023f-4463-bef9-abaf8fc9ed18"
      },
      "source": [
        "pd.DataFrame(history_fn.history).plot(figsize = (10, 7), grid = True)\n",
        "plt.gca().set_ylim(0, 1)\n",
        "plt.title(\"For Functional Model\", c = 'y')\n",
        "plt.yticks(c = 'c')\n",
        "plt.xticks(c = 'c')\n",
        "plt.show()"
      ],
      "execution_count": 177,
      "outputs": [
        {
          "output_type": "display_data",
          "data": {
            "image/png": "[encoded data removed]",
            "text/plain": [
              "<Figure size 720x504 with 1 Axes>"
            ]
          },
          "metadata": {
            "tags": [],
            "needs_background": "dark"
          }
        }
      ]
    },
    {
      "cell_type": "code",
      "metadata": {
        "colab": {
          "base_uri": "https://localhost:8080/"
        },
        "id": "4zE547-2tpDy",
        "outputId": "422dba7e-382d-443a-bc56-9de18822a856"
      },
      "source": [
        "print(model_fn.evaluate(x_test, y_test))\n",
        "print(model_seq.evaluate(X_test, y_test))"
      ],
      "execution_count": 180,
      "outputs": [
        {
          "output_type": "stream",
          "text": [
            "313/313 [==============================] - 0s 2ms/step - loss: 59.4018 - accuracy: 0.8416\n",
            "[59.40178298950195, 0.8416000008583069]\n",
            "313/313 [==============================] - 1s 2ms/step - loss: 66.4510 - accuracy: 0.8423\n",
            "[66.45101165771484, 0.8422999978065491]\n"
          ],
          "name": "stdout"
        }
      ]
    },
    {
      "cell_type": "code",
      "metadata": {
        "id": "8-Ru-xN7uUU4"
      },
      "source": [
        ""
      ],
      "execution_count": null,
      "outputs": []
    }
  ]
}