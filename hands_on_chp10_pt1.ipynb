{
  "nbformat": 4,
  "nbformat_minor": 0,
  "metadata": {
    "colab": {
      "name": "hands-on_chp10_pt1.ipynb",
      "provenance": [],
      "authorship_tag": "ABX9TyMUK2Id6fqpm5ScWkT5fFSW",
      "include_colab_link": true
    },
    "kernelspec": {
      "name": "python3",
      "display_name": "Python 3"
    }
  },
  "cells": [
    {
      "cell_type": "markdown",
      "metadata": {
        "id": "view-in-github",
        "colab_type": "text"
      },
      "source": [
        "<a href=\"https://colab.research.google.com/github/gvigkannan/tensorflow_certification_prep/blob/chp10/hands_on_chp10_pt1.ipynb\" target=\"_parent\"><img src=\"https://colab.research.google.com/assets/colab-badge.svg\" alt=\"Open In Colab\"/></a>"
      ]
    },
    {
      "cell_type": "code",
      "metadata": {
        "id": "XvOsTwCoCaMu"
      },
      "source": [
        "import tensorflow as tf\n",
        "from tensorflow import keras\n",
        "from tensorflow.keras import Sequential, layers, losses\n",
        "import numpy as np\n",
        "import pandas as pd"
      ],
      "execution_count": null,
      "outputs": []
    },
    {
      "cell_type": "code",
      "metadata": {
        "id": "jtX1bXOTTu3Z"
      },
      "source": [
        "import torch"
      ],
      "execution_count": null,
      "outputs": []
    },
    {
      "cell_type": "code",
      "metadata": {
        "colab": {
          "base_uri": "https://localhost:8080/"
        },
        "id": "d1JeVJKPTv-z",
        "outputId": "557b2f28-99c4-4888-eea4-b0768bc6827d"
      },
      "source": [
        "print(tf.__version__)\n",
        "print(keras.__version__)"
      ],
      "execution_count": null,
      "outputs": [
        {
          "output_type": "stream",
          "text": [
            "2.4.0\n",
            "2.4.0\n"
          ],
          "name": "stdout"
        }
      ]
    },
    {
      "cell_type": "code",
      "metadata": {
        "colab": {
          "base_uri": "https://localhost:8080/"
        },
        "id": "gEz7Nqi9T1xz",
        "outputId": "8780e5dc-9276-41cf-a832-659e2b0201da"
      },
      "source": [
        "#Fashion MNIST!\n",
        "fashion_mnist = keras.datasets.fashion_mnist\n",
        "(X_train_full, y_train_full), (X_test, y_test) = fashion_mnist.load_data()"
      ],
      "execution_count": null,
      "outputs": [
        {
          "output_type": "stream",
          "text": [
            "Downloading data from https://storage.googleapis.com/tensorflow/tf-keras-datasets/train-labels-idx1-ubyte.gz\n",
            "32768/29515 [=================================] - 0s 0us/step\n",
            "Downloading data from https://storage.googleapis.com/tensorflow/tf-keras-datasets/train-images-idx3-ubyte.gz\n",
            "26427392/26421880 [==============================] - 0s 0us/step\n",
            "Downloading data from https://storage.googleapis.com/tensorflow/tf-keras-datasets/t10k-labels-idx1-ubyte.gz\n",
            "8192/5148 [===============================================] - 0s 0us/step\n",
            "Downloading data from https://storage.googleapis.com/tensorflow/tf-keras-datasets/t10k-images-idx3-ubyte.gz\n",
            "4423680/4422102 [==============================] - 0s 0us/step\n"
          ],
          "name": "stdout"
        }
      ]
    },
    {
      "cell_type": "code",
      "metadata": {
        "colab": {
          "base_uri": "https://localhost:8080/"
        },
        "id": "aoIBQKWKURbT",
        "outputId": "bde80068-9f29-44e5-86fd-3622dad597dc"
      },
      "source": [
        "print(X_train_full.shape)\n",
        "print(X_train_full.dtype)"
      ],
      "execution_count": null,
      "outputs": [
        {
          "output_type": "stream",
          "text": [
            "(60000, 28, 28)\n",
            "uint8\n"
          ],
          "name": "stdout"
        }
      ]
    },
    {
      "cell_type": "code",
      "metadata": {
        "id": "gS--j7UHUWIL"
      },
      "source": [
        "X_valid, X_train = X_train_full[:5000]/255.0 ,X_train_full[5000:]/255.0 \n",
        "y_valid, y_train = y_train_full[:5000], y_train_full[:5000]"
      ],
      "execution_count": null,
      "outputs": []
    },
    {
      "cell_type": "code",
      "metadata": {
        "id": "vFkc35ppU8KV"
      },
      "source": [
        "#Creating a Sequential Dense Model!\n",
        "model_seq = Sequential()\n",
        "model_seq.add(layers.Flatten(input_shape = [28,28], name = 'Flatten1'))\n",
        "model_seq.add(layers.Dense(300, activation= 'relu', name = 'Hidden1'))\n",
        "model_seq.add(layers.Dense(100, activation = 'relu', name = 'Hidden2'))\n",
        "model_seq.add(layers.Dense(10, activation = 'softmax', name = 'Output_Layer'))"
      ],
      "execution_count": null,
      "outputs": []
    },
    {
      "cell_type": "code",
      "metadata": {
        "colab": {
          "base_uri": "https://localhost:8080/"
        },
        "id": "yXFz5PwjZs_F",
        "outputId": "1ce5fd98-9a43-46db-e495-8502ce5f0baa"
      },
      "source": [
        "model_seq.summary()"
      ],
      "execution_count": null,
      "outputs": [
        {
          "output_type": "stream",
          "text": [
            "Model: \"sequential_5\"\n",
            "_________________________________________________________________\n",
            "Layer (type)                 Output Shape              Param #   \n",
            "=================================================================\n",
            "Flatten1 (Flatten)           (None, 784)               0         \n",
            "_________________________________________________________________\n",
            "Hidden1 (Dense)              (None, 300)               235500    \n",
            "_________________________________________________________________\n",
            "Hidden2 (Dense)              (None, 100)               30100     \n",
            "_________________________________________________________________\n",
            "Output_Layer (Dense)         (None, 10)                1010      \n",
            "=================================================================\n",
            "Total params: 266,610\n",
            "Trainable params: 266,610\n",
            "Non-trainable params: 0\n",
            "_________________________________________________________________\n"
          ],
          "name": "stdout"
        }
      ]
    },
    {
      "cell_type": "code",
      "metadata": {
        "id": "ZGKrYyinVlLl"
      },
      "source": [
        "inputs = keras.Input(shape = (784, ))\n",
        "img_inputs = keras.Input(shape = (28, 28), name = 'Input_Layer')\n",
        "# Not sure why I am not able to implement Flatten!\n",
        "#x = layers.Flatten()(img_inputs)\n",
        "dense_1 = layers.Dense(300,activation = 'relu', name = 'Hidden1')(inputs)\n",
        "dense_2 = layers.Dense(100, activation = 'relu' , name = 'Hidden2')(dense_1)\n",
        "outputs = layers.Dense(10, activation = 'softmax', name = 'Output_Layer')(dense_2)\n",
        "model_fn = keras.Model(inputs = inputs, outputs = outputs, name = 'fmnist_fn')"
      ],
      "execution_count": null,
      "outputs": []
    },
    {
      "cell_type": "markdown",
      "metadata": {
        "id": "qdOw_fU-Z3GM"
      },
      "source": [
        "\n",
        "\n",
        "```\n",
        "# Or if you wish to have different layers for activation\n",
        "\n",
        "hidden_1 = layer.Dense(10)(inputs)\n",
        "act_1 = layers.ReLU()(hidden_1)\n",
        "```\n",
        "\n"
      ]
    },
    {
      "cell_type": "code",
      "metadata": {
        "colab": {
          "base_uri": "https://localhost:8080/"
        },
        "id": "4xXOBWB7ZrhE",
        "outputId": "0fe67919-3f0b-4d1f-9818-90daef3da5f0"
      },
      "source": [
        "model_fn.summary()"
      ],
      "execution_count": null,
      "outputs": [
        {
          "output_type": "stream",
          "text": [
            "Model: \"fmnist_fn\"\n",
            "_________________________________________________________________\n",
            "Layer (type)                 Output Shape              Param #   \n",
            "=================================================================\n",
            "input_29 (InputLayer)        [(None, 784)]             0         \n",
            "_________________________________________________________________\n",
            "Hidden1 (Dense)              (None, 300)               235500    \n",
            "_________________________________________________________________\n",
            "Hidden2 (Dense)              (None, 100)               30100     \n",
            "_________________________________________________________________\n",
            "Output_Layer (Dense)         (None, 10)                1010      \n",
            "=================================================================\n",
            "Total params: 266,610\n",
            "Trainable params: 266,610\n",
            "Non-trainable params: 0\n",
            "_________________________________________________________________\n"
          ],
          "name": "stdout"
        }
      ]
    },
    {
      "cell_type": "code",
      "metadata": {
        "colab": {
          "base_uri": "https://localhost:8080/",
          "height": 369
        },
        "id": "Hh28Xtn0a-Iy",
        "outputId": "5110c4c6-7b89-4076-d2e8-98969f04f25e"
      },
      "source": [
        "keras.utils.plot_model(model_fn)"
      ],
      "execution_count": null,
      "outputs": [
        {
          "output_type": "execute_result",
          "data": {
            "image/png": "[encoded data removed]",
            "text/plain": [
              "<IPython.core.display.Image object>"
            ]
          },
          "metadata": {
            "tags": []
          },
          "execution_count": 49
        }
      ]
    },
    {
      "cell_type": "code",
      "metadata": {
        "colab": {
          "base_uri": "https://localhost:8080/",
          "height": 466
        },
        "id": "vLj5mOPIb4T7",
        "outputId": "1550c3ba-9d8d-423d-e005-8c4f17801b86"
      },
      "source": [
        "keras.utils.plot_model(model_seq)"
      ],
      "execution_count": null,
      "outputs": [
        {
          "output_type": "execute_result",
          "data": {
            "image/png": "[encoded data removed]",
            "text/plain": [
              "<IPython.core.display.Image object>"
            ]
          },
          "metadata": {
            "tags": []
          },
          "execution_count": 50
        }
      ]
    },
    {
      "cell_type": "code",
      "metadata": {
        "id": "j2kBzKKSb6kn"
      },
      "source": [
        "#Number of connections = Input Dimension x Units + Units"
      ],
      "execution_count": null,
      "outputs": []
    },
    {
      "cell_type": "code",
      "metadata": {
        "colab": {
          "base_uri": "https://localhost:8080/",
          "height": 106
        },
        "id": "6uN-JrfqgHIu",
        "outputId": "434e1f9f-eda5-4ad7-eb5d-97018b548743"
      },
      "source": [
        "display(model_fn.layers)"
      ],
      "execution_count": null,
      "outputs": [
        {
          "output_type": "display_data",
          "data": {
            "text/plain": [
              "[<tensorflow.python.keras.engine.input_layer.InputLayer at 0x7fc3a98dd9e8>,\n",
              " <tensorflow.python.keras.layers.core.Dense at 0x7fc3a98d52e8>,\n",
              " <tensorflow.python.keras.layers.core.Dense at 0x7fc3a989cd30>,\n",
              " <tensorflow.python.keras.layers.core.Dense at 0x7fc3a98bccf8>]"
            ]
          },
          "metadata": {
            "tags": []
          }
        }
      ]
    },
    {
      "cell_type": "code",
      "metadata": {
        "colab": {
          "base_uri": "https://localhost:8080/",
          "height": 86
        },
        "id": "wNymAUAWgI7Z",
        "outputId": "4fa5e0f9-9941-45fb-b5dc-272b2110cc74"
      },
      "source": [
        "display(model_seq.layers)"
      ],
      "execution_count": null,
      "outputs": [
        {
          "output_type": "display_data",
          "data": {
            "text/plain": [
              "[<tensorflow.python.keras.layers.core.Flatten at 0x7fc3a994fbe0>,\n",
              " <tensorflow.python.keras.layers.core.Dense at 0x7fc3a99b46d8>,\n",
              " <tensorflow.python.keras.layers.core.Dense at 0x7fc3a98e6e10>,\n",
              " <tensorflow.python.keras.layers.core.Dense at 0x7fc3a996ea58>]"
            ]
          },
          "metadata": {
            "tags": []
          }
        }
      ]
    },
    {
      "cell_type": "code",
      "metadata": {
        "colab": {
          "base_uri": "https://localhost:8080/",
          "height": 291
        },
        "id": "fqiGdOqxgRgs",
        "outputId": "a6469558-35ae-44e1-b1f8-a206a5a29aba"
      },
      "source": [
        "print(model_fn.get_layer('Hidden1').name)\n",
        "print(model_fn.get_layer('Hidden1').units)\n",
        "print(model_fn.get_layer('Hidden1').activation)\n",
        "# weights, biases = model_fn.get_weights() # How do you self a particular layer?"
      ],
      "execution_count": null,
      "outputs": [
        {
          "output_type": "stream",
          "text": [
            "Hidden1\n",
            "300\n",
            "<function relu at 0x7fc40b7b1e18>\n"
          ],
          "name": "stdout"
        },
        {
          "output_type": "error",
          "ename": "ValueError",
          "evalue": "ignored",
          "traceback": [
            "\u001b[0;31m---------------------------------------------------------------------------\u001b[0m",
            "\u001b[0;31mValueError\u001b[0m                                Traceback (most recent call last)",
            "\u001b[0;32m<ipython-input-62-2290be8070a7>\u001b[0m in \u001b[0;36m<module>\u001b[0;34m()\u001b[0m\n\u001b[1;32m      2\u001b[0m \u001b[0mprint\u001b[0m\u001b[0;34m(\u001b[0m\u001b[0mmodel_fn\u001b[0m\u001b[0;34m.\u001b[0m\u001b[0mget_layer\u001b[0m\u001b[0;34m(\u001b[0m\u001b[0;34m'Hidden1'\u001b[0m\u001b[0;34m)\u001b[0m\u001b[0;34m.\u001b[0m\u001b[0munits\u001b[0m\u001b[0;34m)\u001b[0m\u001b[0;34m\u001b[0m\u001b[0;34m\u001b[0m\u001b[0m\n\u001b[1;32m      3\u001b[0m \u001b[0mprint\u001b[0m\u001b[0;34m(\u001b[0m\u001b[0mmodel_fn\u001b[0m\u001b[0;34m.\u001b[0m\u001b[0mget_layer\u001b[0m\u001b[0;34m(\u001b[0m\u001b[0;34m'Hidden1'\u001b[0m\u001b[0;34m)\u001b[0m\u001b[0;34m.\u001b[0m\u001b[0mactivation\u001b[0m\u001b[0;34m)\u001b[0m\u001b[0;34m\u001b[0m\u001b[0;34m\u001b[0m\u001b[0m\n\u001b[0;32m----> 4\u001b[0;31m \u001b[0mweights\u001b[0m\u001b[0;34m,\u001b[0m \u001b[0mbiases\u001b[0m \u001b[0;34m=\u001b[0m \u001b[0mmodel_fn\u001b[0m\u001b[0;34m.\u001b[0m\u001b[0mget_weights\u001b[0m\u001b[0;34m(\u001b[0m\u001b[0;34m)\u001b[0m\u001b[0;34m\u001b[0m\u001b[0;34m\u001b[0m\u001b[0m\n\u001b[0m",
            "\u001b[0;31mValueError\u001b[0m: too many values to unpack (expected 2)"
          ]
        }
      ]
    },
    {
      "cell_type": "code",
      "metadata": {
        "colab": {
          "base_uri": "https://localhost:8080/"
        },
        "id": "1xspHE95iGN5",
        "outputId": "cd101699-42f0-4551-b87b-320f2083bcbb"
      },
      "source": [
        "model_fn.get_layer('Hidden1').get_weights()\n",
        "model_fn.get_layer('Hidden1').weights #Both are the same!"
      ],
      "execution_count": null,
      "outputs": [
        {
          "output_type": "execute_result",
          "data": {
            "text/plain": [
              "[<tf.Variable 'Hidden1/kernel:0' shape=(784, 300) dtype=float32, numpy=\n",
              " array([[ 0.02957828,  0.00221826,  0.05748157, ..., -0.03764187,\n",
              "          0.00221249, -0.04335946],\n",
              "        [-0.07199204, -0.02138671, -0.06050288, ...,  0.04953157,\n",
              "          0.02466745, -0.04375446],\n",
              "        [-0.02918333,  0.00899031, -0.03273861, ..., -0.03865675,\n",
              "          0.00453048, -0.00533152],\n",
              "        ...,\n",
              "        [ 0.03016911, -0.0633958 ,  0.00157738, ..., -0.05473098,\n",
              "         -0.04790075, -0.00522023],\n",
              "        [-0.04010401, -0.0262572 , -0.03587914, ..., -0.07065129,\n",
              "          0.03455112,  0.0029561 ],\n",
              "        [-0.00666641, -0.03930964,  0.06301267, ..., -0.05135559,\n",
              "         -0.05324265, -0.04194933]], dtype=float32)>,\n",
              " <tf.Variable 'Hidden1/bias:0' shape=(300,) dtype=float32, numpy=\n",
              " array([0., 0., 0., 0., 0., 0., 0., 0., 0., 0., 0., 0., 0., 0., 0., 0., 0.,\n",
              "        0., 0., 0., 0., 0., 0., 0., 0., 0., 0., 0., 0., 0., 0., 0., 0., 0.,\n",
              "        0., 0., 0., 0., 0., 0., 0., 0., 0., 0., 0., 0., 0., 0., 0., 0., 0.,\n",
              "        0., 0., 0., 0., 0., 0., 0., 0., 0., 0., 0., 0., 0., 0., 0., 0., 0.,\n",
              "        0., 0., 0., 0., 0., 0., 0., 0., 0., 0., 0., 0., 0., 0., 0., 0., 0.,\n",
              "        0., 0., 0., 0., 0., 0., 0., 0., 0., 0., 0., 0., 0., 0., 0., 0., 0.,\n",
              "        0., 0., 0., 0., 0., 0., 0., 0., 0., 0., 0., 0., 0., 0., 0., 0., 0.,\n",
              "        0., 0., 0., 0., 0., 0., 0., 0., 0., 0., 0., 0., 0., 0., 0., 0., 0.,\n",
              "        0., 0., 0., 0., 0., 0., 0., 0., 0., 0., 0., 0., 0., 0., 0., 0., 0.,\n",
              "        0., 0., 0., 0., 0., 0., 0., 0., 0., 0., 0., 0., 0., 0., 0., 0., 0.,\n",
              "        0., 0., 0., 0., 0., 0., 0., 0., 0., 0., 0., 0., 0., 0., 0., 0., 0.,\n",
              "        0., 0., 0., 0., 0., 0., 0., 0., 0., 0., 0., 0., 0., 0., 0., 0., 0.,\n",
              "        0., 0., 0., 0., 0., 0., 0., 0., 0., 0., 0., 0., 0., 0., 0., 0., 0.,\n",
              "        0., 0., 0., 0., 0., 0., 0., 0., 0., 0., 0., 0., 0., 0., 0., 0., 0.,\n",
              "        0., 0., 0., 0., 0., 0., 0., 0., 0., 0., 0., 0., 0., 0., 0., 0., 0.,\n",
              "        0., 0., 0., 0., 0., 0., 0., 0., 0., 0., 0., 0., 0., 0., 0., 0., 0.,\n",
              "        0., 0., 0., 0., 0., 0., 0., 0., 0., 0., 0., 0., 0., 0., 0., 0., 0.,\n",
              "        0., 0., 0., 0., 0., 0., 0., 0., 0., 0., 0.], dtype=float32)>]"
            ]
          },
          "metadata": {
            "tags": []
          },
          "execution_count": 77
        }
      ]
    },
    {
      "cell_type": "code",
      "metadata": {
        "id": "slSEznXrgXx4"
      },
      "source": [
        "# It is recommended you provide the input shape before hand\n",
        "# But you can make models without inputs as well"
      ],
      "execution_count": null,
      "outputs": []
    },
    {
      "cell_type": "code",
      "metadata": {
        "id": "nWLbKXi6hFXe"
      },
      "source": [
        ""
      ],
      "execution_count": null,
      "outputs": []
    }
  ]
}